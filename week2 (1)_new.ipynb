{
 "cells": [
  {
   "cell_type": "markdown",
   "id": "2da0674a",
   "metadata": {
    "tags": []
   },
   "source": [
    "# Assignments\n"
   ]
  },
  {
   "cell_type": "markdown",
   "id": "9ec27c3e-552f-43ce-a4e6-e155856a401f",
   "metadata": {
    "tags": []
   },
   "source": [
    "## Function to find factorial"
   ]
  },
  {
   "cell_type": "code",
   "execution_count": 1,
   "id": "44984c20",
   "metadata": {},
   "outputs": [
    {
     "name": "stdin",
     "output_type": "stream",
     "text": [
      "Enter a number for factorial calculation:  23\n"
     ]
    },
    {
     "name": "stdout",
     "output_type": "stream",
     "text": [
      "\u001b[95m25852016738884976640000\n",
      "\u001b[94mTime taken by iterative method: \u001b[92m1.05 µs ± 26.4 ns per loop (mean ± std. dev. of 7 runs, 1,000,000 loops each)\n",
      "\u001b[95m25852016738884976640000\n",
      "\u001b[94mTime taken by recursive method: \u001b[92m2.54 µs ± 70.2 ns per loop (mean ± std. dev. of 7 runs, 100,000 loops each)\n",
      "\u001b[95m25852016738884976640000\n",
      "\u001b[94mTime taken using math.factorial method: \u001b[92m226 ns ± 2.5 ns per loop (mean ± std. dev. of 7 runs, 1,000,000 loops each)\n"
     ]
    }
   ],
   "source": [
    "import math\n",
    "# finding factorial iterative manner\n",
    "def fact_iter(N):\n",
    "    ans = 1\n",
    "    for i in range(1,N+1):\n",
    "        ans *= i\n",
    "    return ans\n",
    "num = int(input(\"Enter a number for factorial calculation: \"))\n",
    "print(\"\\033[95m\",end='')\n",
    "print(fact_iter(num))\n",
    "print(\"\\033[94mTime taken by iterative method: \\033[92m\",end='')\n",
    "%timeit fact_iter(num)\n",
    "print(\"\\033[95m\",end='')\n",
    "\n",
    "# finding factorial recursive manner\n",
    "def fact_rec(num):\n",
    "    if num==1 or num==0:\n",
    "        return 1\n",
    "    else:\n",
    "        return num*fact_rec(num-1)\n",
    "print(fact_rec(num))\n",
    "print(\"\\033[94mTime taken by recursive method: \\033[92m\",end='')\n",
    "%timeit fact_rec(num)\n",
    "print(\"\\033[95m\",end='')\n",
    "\n",
    "# using math library \n",
    "print(math.factorial(num))\n",
    "print(\"\\033[94mTime taken using math.factorial method: \\033[92m\",end='')\n",
    "print(\"\",end='')\n",
    "%timeit math.factorial(num)"
   ]
  },
  {
   "cell_type": "markdown",
   "id": "81e7fe88",
   "metadata": {},
   "source": [
    "From above cell, time taken to compute was least using **math** library. Because it has a **C** type implementation and optimisation. Both 1st and 2nd methods have same \n",
    "\n",
    "* **Time complexity** : **O(n)** \n",
    "\n",
    "* **Space complexity** : **O(1)** "
   ]
  },
  {
   "cell_type": "markdown",
   "id": "8c4efd84",
   "metadata": {
    "tags": []
   },
   "source": [
    "## <font color = 'blue'>Linear equation solver</font> "
   ]
  },
  {
   "cell_type": "code",
   "execution_count": 2,
   "id": "9c84595a-3071-4013-b6c7-80dc7291e7c0",
   "metadata": {
    "tags": []
   },
   "outputs": [],
   "source": [
    "import numpy as np\n",
    "def print_matrix(M):\n",
    "    for row in M:\n",
    "        print([round(x,3) for x in row])\n",
    "\n",
    "def zero_matrix(rows, colmn):\n",
    "    M = []\n",
    "    for i in range(rows):\n",
    "        M.append([])\n",
    "        for j in range(colmn):\n",
    "            M[-1].append(0.0)\n",
    "    return M\n",
    "\n",
    "def mtx_cpy(Matrix):\n",
    "    rows = len(Matrix)\n",
    "    cols = len(Matrix[0])\n",
    "    mtx_cpy = zero_matrix(rows, cols)\n",
    "\n",
    "    for i in range(rows):\n",
    "        for j in range(cols):\n",
    "            mtx_cpy[i][j] = Matrix[i][j]\n",
    "\n",
    "    return mtx_cpy\n",
    "\n",
    "A = np.random.rand(10,10)\n",
    "B = np.random.rand(10,1)\n",
    "\n",
    "ACM = mtx_cpy(A)\n",
    "n = len(A)\n",
    "BCM = mtx_cpy(B)\n",
    "indices = list(range(n))\n",
    "\n",
    "def sys_lin_eq():\n",
    "    try:\n",
    "        for i in range(n):\n",
    "            iScale = 1.0 / ACM[i][i] # for normalizing  \n",
    "            for j in range(n):       # i th row multiply by 1/i and \n",
    "                ACM[i][j] *= iScale  # element is replaced in copy matrix\n",
    "            BCM[i][0] *= iScale      # operate on all rows except ith row.\n",
    "            for k in indices[0:i] + indices[i+1:]: # skip ith row.\n",
    "                currScaler = ACM[k][i]\n",
    "                for j in range(n):\n",
    "                    ACM[k][j] = ACM[k][j] - currScaler * ACM[i][j]\n",
    "                BCM[k][0] = BCM[k][0] - currScaler * BCM[i][0]\n",
    "    except NameError:\n",
    "        print(\"\\033[91mCheck the elements of matrix(list) to be a number\")\n",
    "    except ZeroDivisionError:\n",
    "        print(\"\\033[91mInvalid division with zero\")"
   ]
  },
  {
   "cell_type": "code",
   "execution_count": 3,
   "id": "ac8e0261-6f8b-4edc-b643-bca3aa630d2c",
   "metadata": {},
   "outputs": [
    {
     "name": "stdout",
     "output_type": "stream",
     "text": [
      "\u001b[94mCoefficients  matrix (A) :\n",
      "\t\t\t\u001b[92m [0.30545221 0.02407307 0.09110206 0.16588098 0.41332295 0.85400458\n",
      " 0.28387909 0.99751788 0.82452149 0.24391665]\n",
      "\t\t\t\u001b[92m [0.07236475 0.73264072 0.41561346 0.8414308  0.79705738 0.33201453\n",
      " 0.02629487 0.39922    0.19114096 0.18786735]\n",
      "\t\t\t\u001b[92m [0.329375   0.82766962 0.88186565 0.43447228 0.61198903 0.25991093\n",
      " 0.02408377 0.04716091 0.73702278 0.40024608]\n",
      "\t\t\t\u001b[92m [0.09795684 0.21222275 0.57429146 0.84287382 0.89429233 0.01123633\n",
      " 0.91482873 0.23309323 0.97298899 0.99731823]\n",
      "\t\t\t\u001b[92m [0.93088614 0.78961255 0.4260922  0.65066833 0.17070431 0.96319021\n",
      " 0.1587021  0.12851471 0.86564607 0.2188678 ]\n",
      "\t\t\t\u001b[92m [0.61595844 0.28125487 0.36887988 0.22068604 0.3468022  0.29186184\n",
      " 0.23597512 0.08820084 0.94975208 0.58200173]\n",
      "\t\t\t\u001b[92m [0.81028933 0.166013   0.68773603 0.97832575 0.93640507 0.20386798\n",
      " 0.54409643 0.42862108 0.32497336 0.6332254 ]\n",
      "\t\t\t\u001b[92m [0.07458783 0.80613749 0.70954093 0.38566854 0.74802094 0.42511622\n",
      " 0.83492079 0.11499741 0.11686913 0.17397042]\n",
      "\t\t\t\u001b[92m [0.36581969 0.095652   0.66020408 0.06969945 0.89695647 0.89493203\n",
      " 0.49722482 0.4483263  0.40358384 0.11440653]\n",
      "\t\t\t\u001b[92m [0.18191299 0.97064765 0.55322581 0.86097    0.84637987 0.29162145\n",
      " 0.5087139  0.65463883 0.53089131 0.66319657]\n",
      "\u001b[95m----------------------------------------------------------------\n"
     ]
    }
   ],
   "source": [
    "print(\"\\033[94mCoefficients  matrix (A) :\")\n",
    "for i in range(len(A)):\n",
    "    print(\"\\t\\t\\t\\033[92m\",A[i])\n",
    "print(\"\\033[95m----------------------------------------------------------------\")"
   ]
  },
  {
   "cell_type": "code",
   "execution_count": 4,
   "id": "307101fb-63d7-4919-90e7-f4f7ebfc76e2",
   "metadata": {},
   "outputs": [
    {
     "name": "stdout",
     "output_type": "stream",
     "text": [
      "\u001b[94mCoefficients  matrix (B) :\n",
      "\t\t\t\u001b[92m [0.34101233]\n",
      "\t\t\t\u001b[92m [0.28923608]\n",
      "\t\t\t\u001b[92m [0.36058443]\n",
      "\t\t\t\u001b[92m [0.52138041]\n",
      "\t\t\t\u001b[92m [0.98302027]\n",
      "\t\t\t\u001b[92m [0.60218712]\n",
      "\t\t\t\u001b[92m [0.76941147]\n",
      "\t\t\t\u001b[92m [0.9936201]\n",
      "\t\t\t\u001b[92m [0.23307082]\n",
      "\t\t\t\u001b[92m [0.151012]\n",
      "\u001b[95m----------------------------------------------------------------\n",
      "\t\t\u001b[94mAX=B SOLVING for X \n",
      "\u001b[95m----------------------------------------------------------------\n"
     ]
    }
   ],
   "source": [
    "print(\"\\033[94mCoefficients  matrix (B) :\")\n",
    "for i in range(len(A)):\n",
    "    print(\"\\t\\t\\t\\033[92m\",B[i])\n",
    "print(\"\\033[95m----------------------------------------------------------------\")\n",
    "print(\"\\t\\t\\033[94mAX=B SOLVING for X \")\n",
    "print(\"\\033[95m----------------------------------------------------------------\")"
   ]
  },
  {
   "cell_type": "code",
   "execution_count": 5,
   "id": "d3585456-91a0-4cba-bb97-2364c8f1f5c2",
   "metadata": {},
   "outputs": [
    {
     "name": "stdout",
     "output_type": "stream",
     "text": [
      "\u001b[94mSolution matrix (X) :\n",
      "\t\t\t\u001b[92m [1.951824621095385]\n",
      "\t\t\t\u001b[92m [0.6487830097836369]\n",
      "\t\t\t\u001b[92m [-1.0520187449799843]\n",
      "\t\t\t\u001b[92m [0.4738347442907185]\n",
      "\t\t\t\u001b[92m [1.3442959786325905]\n",
      "\t\t\t\u001b[92m [-3.1044745643819986]\n",
      "\t\t\t\u001b[92m [2.1610990859338672]\n",
      "\t\t\t\u001b[92m [0.30825158774216355]\n",
      "\t\t\t\u001b[92m [2.7457012025224588]\n",
      "\t\t\t\u001b[92m [-5.505216528131026]\n",
      "\u001b[95m----------------------------------------------------------------\n",
      "\u001b[94mTime taken without using numpy : \u001b[91m195 µs ± 7.6 µs per loop (mean ± std. dev. of 7 runs, 1,000 loops each)\n",
      "\u001b[95m----------------------------------------------------------------\n"
     ]
    }
   ],
   "source": [
    "sys_lin_eq()\n",
    "print(\"\\033[94mSolution matrix (X) :\")\n",
    "for i in range(len(BCM)):\n",
    "    print('\\t\\t\\t\\033[92m',(BCM[i]))\n",
    "print(\"\\033[95m----------------------------------------------------------------\")\n",
    "print(\"\\033[94mTime taken without using numpy : \\033[91m\",end='')\n",
    "%timeit sys_lin_eq()\n",
    "print(\"\\033[95m----------------------------------------------------------------\")\n"
   ]
  },
  {
   "cell_type": "code",
   "execution_count": 6,
   "id": "ca4a1152-d91d-40c7-a327-99f4e8fdd370",
   "metadata": {},
   "outputs": [
    {
     "name": "stdout",
     "output_type": "stream",
     "text": [
      "\u001b[94mUsing numpy the solution is : \n",
      "\t\t\t\u001b[92m[1.95182]\n",
      "\t\t\t\u001b[92m[0.64878]\n",
      "\t\t\t\u001b[92m[-1.05202]\n",
      "\t\t\t\u001b[92m[0.47383]\n",
      "\t\t\t\u001b[92m[1.34430]\n",
      "\t\t\t\u001b[92m[-3.10447]\n",
      "\t\t\t\u001b[92m[2.16110]\n",
      "\t\t\t\u001b[92m[0.30825]\n",
      "\t\t\t\u001b[92m[2.74570]\n",
      "\t\t\t\u001b[92m[-5.50522]\n",
      "\u001b[95m----------------------------------------------------------------\n",
      "\u001b[94mTime taken using numpy : \u001b[91m16.6 µs ± 484 ns per loop (mean ± std. dev. of 7 runs, 100,000 loops each)\n",
      "\u001b[95m----------------------------------------------------------------\n"
     ]
    }
   ],
   "source": [
    "import numpy as np\n",
    "a = np.array(ACM)\n",
    "b = np.array(BCM)\n",
    "x = (np.linalg.solve(a,b))\n",
    "x[:].astype(float)\n",
    "print(\"\\033[94mUsing numpy the solution is : \")\n",
    "for i in range(len(x)):\n",
    "        print('\\t\\t\\t\\033[92m[%5.5f]'%(x[i]))\n",
    "print(\"\\033[95m----------------------------------------------------------------\")\n",
    "print(\"\\033[94mTime taken using numpy : \\033[91m\",end='')\n",
    "%timeit np.linalg.solve(a,b)\n",
    "print(\"\\033[95m----------------------------------------------------------------\")"
   ]
  },
  {
   "cell_type": "markdown",
   "id": "76c76913-969a-4883-9383-a2bf55e28fec",
   "metadata": {},
   "source": [
    "For a typical system of equations, such as **AX=B**, we need to solve for **X**. So we apply row operations on **A** to make it to an **identity matrix** and similarly **B** will become **X**.\n",
    "**ACM & BCM** are copies of matrix **A** & **B**.\n",
    "Following steps can be followed:\n",
    "\n",
    "* The first and foremost step for each column is to scale the rows all elements with multiplying the rows first element inverse(iScale here).\n",
    "\n",
    "* Second step is to make that row elements subtracted with row elements of iScale ( operations)\n",
    "\n",
    "* Now zero will be in ith column location for this row"
   ]
  },
  {
   "cell_type": "markdown",
   "id": "545d1058-9622-467c-a574-0f3410219a07",
   "metadata": {},
   "source": [
    "## Circuit Solver"
   ]
  },
  {
   "cell_type": "code",
   "execution_count": 7,
   "id": "e6bf57c7-113e-48e8-959d-3d5974a61f7b",
   "metadata": {},
   "outputs": [
    {
     "name": "stdout",
     "output_type": "stream",
     "text": [
      "[['V1', 'GND', '1', 'dc', '10'], ['R1', '1', '2', '1e3'], ['R2', '2', '3', '1e3'], ['R3', '3', '4', '1e3'], ['R4', '4', '5', '1e3'], ['R5', '2', 'GND', '2e3'], ['R6', '3', 'GND', '2e3'], ['R7', '4', 'GND', '2e3'], ['R8', '5', 'GND', '2e3']]\n"
     ]
    }
   ],
   "source": [
    "# -------importing required modules------- #\n",
    "\n",
    "import numpy as np\n",
    "import math as math\n",
    "import cmath\n",
    "\n",
    "CIRCUIT = '.circuit'\n",
    "END = '.end'\n",
    "AC=\".ac\"\n",
    "ac=0\n",
    "\n",
    "# ------- Checking the file definiton and location ------- #\n",
    "\n",
    "try:\n",
    "    with open(\"ckt3.netlist\") as f:\n",
    "        lines = f.readlines()\n",
    "        start = -1; end = -2\n",
    "        for line in lines:  # get circuit definition start and end lines\n",
    "            if CIRCUIT == line[:len(CIRCUIT)]:\n",
    "                start = lines.index(line)\n",
    "            if END == line[:len(END)]:\n",
    "                end = lines.index(line)\n",
    "            if AC == line[:len(AC)]:\n",
    "                ac = lines.index(line)\n",
    "        if start >= end :# validating circuit block\n",
    "            print('Invalid circuit definition')\n",
    "            exit(0)\n",
    "except IOError:\n",
    "    print('Invalid file or the file does not exist in the location.')\n",
    "    exit()\n",
    "\n",
    "# ------- Reading the circuit netlist file and store the line w/o comments ------- #\n",
    "\n",
    "ckt_lines = []\n",
    "freq_line=[] # remove comment and split and take first one\n",
    "[ckt_lines.append(((line.split('#')[0].split()))) for line in lines[start+1:end]]\n",
    "if ac != 0:\n",
    "    freq_line.append(lines[ac].split(\"#\")[0].split()) # remove comment and split and take first one\n",
    "print(ckt_lines)\n",
    "if ac!= 0:\n",
    "    ckt_freq = int(freq_line[0][-1]) # get circuit frequency\n",
    "    print(ckt_freq)"
   ]
  },
  {
   "cell_type": "code",
   "execution_count": 8,
   "id": "e8527d77-8e5b-4b0b-ac04-9b3cabfc91b2",
   "metadata": {},
   "outputs": [],
   "source": [
    "# ------- Creating compenent class with it's param as objects ------- #\n",
    "class resistor(object):\n",
    "        def __init__(self,nd1,nd2,val):\n",
    "            self.nd1 = nd1\n",
    "            self.nd2 = nd2\n",
    "            self.val = float(val)\n",
    "\n",
    "class inductor(object):\n",
    "    if ac == 0 :\n",
    "        def __init__(self,nd1,nd2,name,val):\n",
    "            self.nd1 = nd1\n",
    "            self.nd2 = nd2\n",
    "            self.val = 10e18\n",
    "    else :\n",
    "        def __init__(self,nd1,nd2,val):\n",
    "            self.nd1 = nd1\n",
    "            self.nd2 = nd2         # val = j(2*pi*f*L)\n",
    "            self.val = complex(0,2*math.pi*float(val)*ckt_freq)\n",
    "\n",
    "class capacitor(object):\n",
    "    if ac == 0:\n",
    "        def __init__(self,nd1,nd2,val):\n",
    "            self.nd1 = nd1\n",
    "            self.nd2 = nd2\n",
    "            self.val = 10e18\n",
    "    else :\n",
    "        def __init__(self,nd1,nd2,val):\n",
    "            self.nd1 = nd1\n",
    "            self.nd2 = nd2          # val = -j/wc = -j/(2*pi*f*C)\n",
    "            self.val = complex(0,(-1/(2*math.pi*float(val)*ckt_freq)))\n",
    "\n",
    "class voltage(object):\n",
    "    if ac == 0:\n",
    "        def __init__(self,nd1,nd2,name,val):\n",
    "            self.nd1 = nd1\n",
    "            self.nd2 = nd2\n",
    "            self.val = float(val)\n",
    "    if ac != 0:\n",
    "        def __init__(self,nd1,nd2,name,val,phase):\n",
    "            self.nd1 = nd1\n",
    "            self.nd2 = nd2\n",
    "            self.name = name\n",
    "            self.val = float(val)\n",
    "            self.phase = float(phase) * (math.pi/180)\n",
    "\n",
    "class current(object):\n",
    "    if ac == 0:\n",
    "        def __init__(self,nd1,nd2,name,val):\n",
    "            self.nd1 = nd1\n",
    "            self.nd2 = nd2\n",
    "            self.name = name\n",
    "            self.val = float(val)\n",
    "    if ac !=0 :\n",
    "        def __init__(self,nd1,nd2,name,val,phase):\n",
    "            self.nd1 = nd1\n",
    "            self.nd2 = nd2\n",
    "            self.name = name\n",
    "            self.val = float(val)\n",
    "            self.phase = float(phase) * (math.pi/180)\n"
   ]
  },
  {
   "cell_type": "code",
   "execution_count": 9,
   "id": "845f666f-9b5c-4440-bc87-14424c11cb5f",
   "metadata": {},
   "outputs": [],
   "source": [
    "# ------- Creating element dictionary and storing params of each objects ------- #\n",
    "element_dict = {}\n",
    "k = 0 # counter for voltage sources reading currents seperately\n",
    "\n",
    "# ------- Creating nodes & voltage source nodes and its params ------- #\n",
    "nodes = []\n",
    "voltage_sources = []\n",
    "\n",
    "for l in ckt_lines:\n",
    "    # read the circuit lines\n",
    "    \n",
    "    # As we know using OOPS we can increase the code reusablility\n",
    "    \n",
    "    # Here using different classes and object's for different elements\n",
    "    \n",
    "    if l[0][0] == \"R\" :\n",
    "        element_dict[l[0]] = resistor(l[1],l[2],l[3])\n",
    "        nodes.append(element_dict[l[0]].nd1)\n",
    "        nodes.append(element_dict[l[0]].nd2)\n",
    "\n",
    "    if l[0][0] == \"L\" :\n",
    "        element_dict[l[0]] = inductor(l[1],l[2],l[3])\n",
    "        nodes.append(element_dict[l[0]].nd1)\n",
    "        nodes.append(element_dict[l[0]].nd2)\n",
    "        print(element_dict[l[0]].val)\n",
    "\n",
    "    if l[0][0] == \"C\" :\n",
    "        element_dict[l[0]] = capacitor(l[1],l[2],l[3])\n",
    "        print(element_dict[l[0]].val)\n",
    "        nodes.append(element_dict[l[0]].nd1)\n",
    "        nodes.append(element_dict[l[0]].nd2)\n",
    "\n",
    "    if l[0][0] == \"V\" :\n",
    "        k=k+1\n",
    "\n",
    "        if ac == 0 :\n",
    "            try:\n",
    "                element_dict[l[0]] = voltage(l[1],l[2],l[3],l[4])\n",
    "            except KeyError:\n",
    "                print(\"DC VS format : V1 nd1 nd2 dc val\")\n",
    "\n",
    "        else :\n",
    "            element_dict[l[0]] = voltage(l[1],l[2],l[3],l[4],l[5])\n",
    "        \n",
    "        nodes.append(element_dict[l[0]].nd1)\n",
    "        nodes.append(element_dict[l[0]].nd2)\n",
    "        voltage_sources.append(l[0])\n",
    "    \n",
    "    if l[0][0] == \"I\" :\n",
    "        \n",
    "        if ac == 0 :\n",
    "            try:\n",
    "                element_dict[l[0]] = voltage(l[1],l[2],l[3],l[4])\n",
    "            except Exception:\n",
    "                print(\"DC CS format : I1 nd1 nd2 dc val\")\n",
    "        \n",
    "        else:\n",
    "            try:\n",
    "                element_dict[l[0]] = voltage(l[1],l[2],l[3],l[4],l[5])\n",
    "            except IndexError:\n",
    "                print(\"Invalid/ list index out of range\")  \n",
    "                \n",
    "        nodes.append(element_dict[l[0]].nd1)\n",
    "        nodes.append(element_dict[l[0]].nd2)"
   ]
  },
  {
   "cell_type": "code",
   "execution_count": 10,
   "id": "d877d402-070b-44ca-a613-18e2e6571333",
   "metadata": {},
   "outputs": [],
   "source": [
    "g = element_dict\n",
    "# creating the g matrix"
   ]
  },
  {
   "cell_type": "code",
   "execution_count": 11,
   "id": "881a7509-a377-4e91-b6cd-db923c60d74e",
   "metadata": {},
   "outputs": [
    {
     "data": {
      "text/plain": [
       "['V1']"
      ]
     },
     "execution_count": 11,
     "metadata": {},
     "output_type": "execute_result"
    }
   ],
   "source": [
    "nodes_list = list(set(nodes)) # remove the occurence of multiple nodes count\n",
    "volt_list = list(set(voltage_sources))\n",
    "nodes_list.remove('GND')\n",
    "nodes_list=['GND']+nodes_list\n",
    "nodes_list\n",
    "volt_list"
   ]
  },
  {
   "cell_type": "code",
   "execution_count": 12,
   "id": "58d017bc-3017-425e-992d-acf824b83037",
   "metadata": {},
   "outputs": [
    {
     "data": {
      "text/plain": [
       "1"
      ]
     },
     "execution_count": 12,
     "metadata": {},
     "output_type": "execute_result"
    }
   ],
   "source": [
    "k = len(volt_list) # counter for voltage sources reading the currents in it.\n",
    "n = len(nodes_list) # counter for nodes in the circuit.\n",
    "k"
   ]
  },
  {
   "cell_type": "code",
   "execution_count": 13,
   "id": "7a6ce6d7-3efd-4aae-b94d-43dcd2d3d401",
   "metadata": {},
   "outputs": [
    {
     "name": "stdout",
     "output_type": "stream",
     "text": [
      "Elements linked to all unique nodes: \n"
     ]
    },
    {
     "data": {
      "text/plain": [
       "{'GND': ['V1', 'R5', 'R6', 'R7', 'R8'],\n",
       " '3': ['R2', 'R3', 'R6'],\n",
       " '2': ['R1', 'R2', 'R5'],\n",
       " '1': ['V1', 'R1'],\n",
       " '4': ['R3', 'R4', 'R7'],\n",
       " '5': ['R4', 'R8']}"
      ]
     },
     "execution_count": 13,
     "metadata": {},
     "output_type": "execute_result"
    }
   ],
   "source": [
    "M = np.zeros((n+k,n+k),dtype=complex)\n",
    "y = np.zeros((n+k,1),dtype=complex)\n",
    "\n",
    "node_link={} # gets elements link with nodes\n",
    "for i in nodes_list:\n",
    "    node_link[i]=[]\n",
    "    for l in ckt_lines:\n",
    "        if g[l[0]].nd1 ==i or g[l[0]].nd2 ==i :\n",
    "            node_link[i].append(l[0]) #elements linked with node i\n",
    "print(\"Elements linked to all unique nodes: \")\n",
    "node_link"
   ]
  },
  {
   "cell_type": "code",
   "execution_count": 14,
   "id": "fb457a29-9c74-410f-ad47-ec5b93ed4501",
   "metadata": {},
   "outputs": [
    {
     "name": "stdout",
     "output_type": "stream",
     "text": [
      "Key values in program for acessing nodes :\n",
      "{'GND': 0, '3': 1, '2': 2, '1': 3, '4': 4, '5': 5}\n"
     ]
    }
   ],
   "source": [
    "b={}\n",
    "d=0\n",
    "for key in nodes_list:\n",
    "    b[key]=d\n",
    "    d += 1\n",
    "b\n",
    "print(\"Key values in program for acessing nodes :\\n{}\".format(b)) "
   ]
  },
  {
   "cell_type": "code",
   "execution_count": 15,
   "id": "5c8fd8a6-c6f0-4ce8-8fc8-c110b61bd640",
   "metadata": {},
   "outputs": [
    {
     "name": "stdout",
     "output_type": "stream",
     "text": [
      "Voltage source(s): {'V1': 1}\n"
     ]
    }
   ],
   "source": [
    "e={}\n",
    "d=1\n",
    "for key in volt_list:\n",
    "    e[key]=d\n",
    "    d=d+1   \n",
    "print('Voltage source(s): {}'.format(e))"
   ]
  },
  {
   "cell_type": "code",
   "execution_count": 16,
   "id": "18d90829-cb0a-4db2-af8a-338dc98b9f17",
   "metadata": {},
   "outputs": [],
   "source": [
    "for key in node_link:\n",
    "        if b[key] == 0: # if GND => make it 1\n",
    "            M[b[key]][0]=1\n",
    "        else:\n",
    "            for i in node_link[key]:\n",
    "                # if R'x' found and at [i,i]\n",
    "                #Each element in the diagonal matrix is equal to the sum of the conductance\n",
    "                #(one over the resistance) of each element connected to the corresponding node.\n",
    "                \n",
    "                if i[0] == \"R\":\n",
    "                    if b[g[i].nd1] == b[key]:\n",
    "                        M[b[key]][b[g[i].nd1]] += (1/g[i].val) #\n",
    "                        M[b[key]][b[g[i].nd2]] -= (1/g[i].val)\n",
    "                \n",
    "                # The off diagonal elements are the negative conductance \n",
    "                # of the element connected to the pair of corresponding node.\n",
    "                # negative conductance appear when they are shared (not when [i,i])\n",
    "                    if b[g[i].nd2] == b[key]: \n",
    "                        M[b[key]][b[g[i].nd2]] += (1/g[i].val)\n",
    "                        M[b[key]][b[g[i].nd1]] -= (1/g[i].val)\n",
    "                \n",
    "                # if V'x' is found\n",
    "                if i[0] == \"V\":\n",
    "                    temp_voltage =e[i]\n",
    "                    # if at node '+'ve is present then add -> 1\n",
    "                    if b[g[i].nd1] == b[key]:\n",
    "                        M[b[key]][temp_voltage+n-1] += (-1)\n",
    "                    # else then add -> -1\n",
    "                    if b[g[i].nd2] == b[key]:\n",
    "                        M[b[key]][temp_voltage+n-1] += (1)\n",
    "                \n",
    "                # if I'x' is found\n",
    "                if i[0] == \"I\":\n",
    "                    if ac == 0:\n",
    "                        if b[g[i].nd1] == b[key]:\n",
    "                            y[b[key]] += -g[i].val\n",
    "                        if b[g[i].nd2] == b[key]:\n",
    "                            y[b[key]] += +g[i].val\n",
    "                    else:\n",
    "                        if b[g[i].nd1] == b[key]:\n",
    "                            y[b[key]] += (-g[i].val)*(1/(2*math.sqrt(2)))*(cmath.rect(1,g[i].phase))\n",
    "                        if b[g[i].nd2] == b[key]:\n",
    "                            y[b[key]] += (+g[i].val)*(1/(2*math.sqrt(2)))*(cmath.rect(1,g[i].phase))\n",
    "                if i[0] ==\"L\":\n",
    "                    if ac==0:\n",
    "                        print(\"INductor not allowed give in dc case\")\n",
    "                        quit()\n",
    "                    else:\n",
    "                        if b[g[i].nd1] == b[key]:\n",
    "                            M[b[key]][b[g[i].nd1]] += (1/g[i].val)\n",
    "                            M[b[key]][b[g[i].nd2]] -= (1/g[i].val)\n",
    "                        if b[g[i].nd2] == b[key]:\n",
    "                            M[b[key]][b[g[i].nd2]] += (1/g[i].val)\n",
    "                            M[b[key]][b[g[i].nd1]] -= (1/g[i].val)\n",
    "                if i[0] ==\"C\":\n",
    "                    if ac==0:\n",
    "                        print(\"Capacitor not allowed give in dc case\")\n",
    "                        quit()\n",
    "                    else:\n",
    "                        if b[g[i].nd1] == b[key]:\n",
    "                            M[b[key]][b[g[i].nd1]] += (1/g[i].val)\n",
    "                            M[b[key]][b[g[i].nd2]] -= (1/g[i].val)\n",
    "                        if b[g[i].nd2] == b[key]:\n",
    "                            M[b[key]][b[g[i].nd2]] += (1/g[i].val)\n",
    "                            M[b[key]][b[g[i].nd1]] -= (1/g[i].val)"
   ]
  },
  {
   "cell_type": "code",
   "execution_count": 17,
   "id": "be500264-2a3e-46cd-8ef8-9cdbe921ace6",
   "metadata": {},
   "outputs": [],
   "source": [
    "for c in volt_list:\n",
    "        temp_voltage=e[c]\n",
    "        # assign the value if the positive is node then +1\n",
    "        # else assign the value -1\n",
    "        if ac==0:\n",
    "            M[n+temp_voltage-1][b[g[c].nd1]] = -1\n",
    "            M[n+temp_voltage-1][b[g[c].nd2]] =  1\n",
    "            y[n+temp_voltage-1]=g[c].val\n",
    "        else:\n",
    "            M[n+temp_voltage-1][b[g[c].nd1]] = -1\n",
    "            M[n+temp_voltage-1][b[g[c].nd2]] =  1\n",
    "            y[n+temp_voltage-1]=(g[c].val)*(1/(2*math.sqrt(2)))*(cmath.rect(1,g[c].phase))"
   ]
  },
  {
   "cell_type": "code",
   "execution_count": 18,
   "id": "c632a28d-83b7-40c6-a282-9ee94d8af98a",
   "metadata": {},
   "outputs": [],
   "source": [
    "def print_matrix(M):\n",
    "    for row in M:\n",
    "        print([round(x,3) for x in row])\n",
    "\n",
    "def zero_matrix(rows, colmn):\n",
    "    M = []\n",
    "    for i in range(rows):\n",
    "        M.append([])\n",
    "        for j in range(colmn):\n",
    "            M[-1].append(0.0)\n",
    "    return M\n",
    "\n",
    "def temp_matrix(Matrix):\n",
    "    rows = len(Matrix)\n",
    "    cols = len(Matrix[0])\n",
    "    temp_matrix = zero_matrix(rows, cols)\n",
    "\n",
    "    for i in range(rows):\n",
    "        for j in range(cols):\n",
    "            temp_matrix[i][j] = Matrix[i][j]\n",
    "\n",
    "    return temp_matrix\n",
    "\n",
    "MCM = temp_matrix(M)\n",
    "n = len(M)\n",
    "YCM = temp_matrix(y)\n",
    "indices = list(range(n))\n",
    "\n",
    "def sys_lin_eq():\n",
    "    try:\n",
    "        for i in range(n):\n",
    "            iScale = 1.0 / MCM[i][i] # for normalizing  \n",
    "            for j in range(n):       # i th row multiply by 1/i and \n",
    "                MCM[i][j] *= iScale  # element is replaced in copy matrix\n",
    "            YCM[i][0] *= iScale      # operate on all rows except ith row.\n",
    "            for k in indices[0:i] + indices[i+1:]: # skip ith row.\n",
    "                currScaler = MCM[k][i]\n",
    "                for j in range(n):\n",
    "                    MCM[k][j] = MCM[k][j] - currScaler * MCM[i][j]\n",
    "                YCM[k][0] = YCM[k][0] - currScaler * YCM[i][0]\n",
    "    except NameError:\n",
    "        print(\"\\033[91mCheck the elements of matrix(list) to be a number\")\n",
    "    except ZeroDivisionError:\n",
    "        print(\"\\033[91mInvalid division with zero\")\n",
    "        \n",
    "sys_lin_eq()"
   ]
  },
  {
   "cell_type": "code",
   "execution_count": 19,
   "id": "ecdafb7e-ac8c-4570-9f3f-1a51faec8c9a",
   "metadata": {},
   "outputs": [
    {
     "name": "stdout",
     "output_type": "stream",
     "text": [
      "Node -> GND has voltage = [0j] V\n",
      "Node -> 3   has voltage = [(2.573099415204679+0j)] V\n",
      "Node -> 2   has voltage = [(5.029239766081872+0j)] V\n",
      "Node -> 1   has voltage = [(10+0j)] V\n",
      "Node -> 4   has voltage = [(1.4035087719298251+0j)] V\n",
      "Node -> 5   has voltage = [(0.9356725146198834+0j)] V\n",
      "Current in 5 = [(-0.004970760233918129-0j)] A\n"
     ]
    }
   ],
   "source": [
    "i=0\n",
    "for k in b:\n",
    "    print(\"Node -> {0:<4s}has {1:>7s} = {2:s} V\".format(str(k),'voltage',str(YCM[i])))\n",
    "    i+=1\n",
    "for v in volt_list:\n",
    "    print(\"Current in {0:s} = {1:s} A\".format(str(k),str(YCM[i])))"
   ]
  }
 ],
 "metadata": {
  "authors": [
   {
    "name": "Dheeraj.B <EE21B032>"
   }
  ],
  "kernelspec": {
   "display_name": "Python 3 (ipykernel)",
   "language": "python",
   "name": "python3"
  },
  "language_info": {
   "codemirror_mode": {
    "name": "ipython",
    "version": 3
   },
   "file_extension": ".py",
   "mimetype": "text/x-python",
   "name": "python",
   "nbconvert_exporter": "python",
   "pygments_lexer": "ipython3",
   "version": "3.9.2"
  },
  "title": "EE2703 WEEK 2"
 },
 "nbformat": 4,
 "nbformat_minor": 5
}
